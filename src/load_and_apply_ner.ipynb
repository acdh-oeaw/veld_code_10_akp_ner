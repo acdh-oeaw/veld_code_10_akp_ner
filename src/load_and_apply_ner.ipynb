{
 "cells": [
  {
   "cell_type": "code",
   "execution_count": 1,
   "id": "13f1d84d-3abe-41c4-9080-6a4547499c0c",
   "metadata": {},
   "outputs": [],
   "source": [
    "import csv\n",
    "import datetime\n",
    "import pysolr\n",
    "import spacy\n",
    "from spacy import displacy"
   ]
  },
  {
   "cell_type": "code",
   "execution_count": 2,
   "id": "18380500-e978-4f88-8b3c-9bd82a80ace0",
   "metadata": {},
   "outputs": [
    {
     "name": "stderr",
     "output_type": "stream",
     "text": [
      "/usr/local/lib/python3.10/site-packages/spacy/util.py:887: UserWarning: [W095] Model 'de_pipeline' (0.0.0) was trained with spaCy v3.6 and may not be 100% compatible with the current version (3.5.4). If you see errors or degraded performance, download a newer compatible model or retrain your custom model with the current spaCy version. For more details and available updates, run: python -m spacy validate\n",
      "  warnings.warn(warn_msg)\n",
      "/usr/local/lib/python3.10/site-packages/tqdm/auto.py:21: TqdmWarning: IProgress not found. Please update jupyter and ipywidgets. See https://ipywidgets.readthedocs.io/en/stable/user_install.html\n",
      "  from .autonotebook import tqdm as notebook_tqdm\n"
     ]
    }
   ],
   "source": [
    "nlp = spacy.load(\"/veld/input/m3/model/model-best/\")"
   ]
  },
  {
   "cell_type": "raw",
   "id": "da7405e9-3748-45e5-a82a-c081c008b297",
   "metadata": {},
   "source": [
    "def print_with_ner(doc):\n",
    "    displacy.render(doc, style=\"ent\", jupyter=True)"
   ]
  },
  {
   "cell_type": "code",
   "execution_count": 8,
   "id": "4127a00b-689f-4e65-ab9b-435a7a1985fa",
   "metadata": {},
   "outputs": [],
   "source": [
    "def fetch(solr_core, pagination_limit=999999):\n",
    "    solr_core_url = \"http://linkedcat-solr.acdh-cluster-2.arz.oeaw.ac.at/solr/\" + solr_core\n",
    "    solr = pysolr.Solr(solr_core_url, always_commit=True)\n",
    "    solr_data = list(solr.search(\"*:*\", rows=pagination_limit))\n",
    "    solr_id_set = set(sd[\"id\"] for sd in solr_data)\n",
    "    assert len(solr_data) == len(solr_id_set)\n",
    "    print(f\"length solr_data: {len(solr_data)}\")\n",
    "    return solr_data"
   ]
  },
  {
   "cell_type": "code",
   "execution_count": 31,
   "id": "de953c31-d52b-4c79-b34b-a78320e38e9e",
   "metadata": {},
   "outputs": [],
   "source": [
    "def parse_persist(solr_data, break_step, csv_file_name):\n",
    "    csv_file_path = f\"/veld/output/{csv_file_name}.csv\"\n",
    "    with open(csv_file_path, \"w\") as f:\n",
    "        csv_writer = csv.writer(f)\n",
    "        csv_writer.writerow((\"id\", \"start_char\", \"end_char\", \"text\", \"label\"))\n",
    "        data_tmp = []\n",
    "        for i, entry in enumerate(solr_data):\n",
    "            # verify\n",
    "            entry_id = entry[\"id\"]\n",
    "            text_good = entry[\"ocrtext_good\"]\n",
    "            assert len(text_good) == 1\n",
    "            text_good = text_good[0]\n",
    "            text = entry[\"ocrtext\"]\n",
    "            assert len(text) == 1\n",
    "            text = text[0]\n",
    "            if text_good != text:\n",
    "                print(f\"different texts at {entry_id}\")\n",
    "            # parse\n",
    "            doc = nlp(text_good)\n",
    "            for ent in doc.ents:\n",
    "                assert text_good[ent.start_char:ent.end_char] == ent.text\n",
    "                data_tmp.append((entry_id, ent.start_char, ent.end_char, ent.text, ent.label_))\n",
    "            # persist\n",
    "            if i != 0 and (i % break_step == 0 or i == len(solr_data) - 1):\n",
    "                print(f\"persisting at index: {i}, current id: {entry_id}, {datetime.datetime.now()}\")\n",
    "                for data_row in data_tmp:\n",
    "                    csv_writer.writerow(data_row)\n",
    "                data_tmp = []"
   ]
  },
  {
   "cell_type": "code",
   "execution_count": 37,
   "id": "340157de-26cc-42ca-bba2-951ec01959a0",
   "metadata": {},
   "outputs": [
    {
     "name": "stdout",
     "output_type": "stream",
     "text": [
      "length solr_data: 8051\n"
     ]
    }
   ],
   "source": [
    "solr_data2 = fetch(\"linkedcat2\")"
   ]
  },
  {
   "cell_type": "code",
   "execution_count": null,
   "id": "84710918-2636-4ac6-9b9e-4c6e1fb50058",
   "metadata": {},
   "outputs": [],
   "source": [
    "#for i, sd in enumerate(solr_data2):\n",
    "#    print(i, sd[\"id\"])"
   ]
  },
  {
   "cell_type": "code",
   "execution_count": null,
   "id": "2af5a8f2-80ba-44cf-b970-8fe8f5bb476d",
   "metadata": {},
   "outputs": [],
   "source": [
    "parse_persist(solr_data2, 50, \"linkedcat2\")"
   ]
  },
  {
   "cell_type": "code",
   "execution_count": null,
   "id": "3972c824-6c5a-4263-874e-4f79abbbffa1",
   "metadata": {},
   "outputs": [],
   "source": [
    "solr_data1 = fetch(\"linkedcat\")"
   ]
  },
  {
   "cell_type": "code",
   "execution_count": null,
   "id": "f26e84f1-88aa-464c-9f58-5088663406a2",
   "metadata": {},
   "outputs": [],
   "source": [
    "parse_persist(solr_data1, \"linkedcat\")"
   ]
  }
 ],
 "metadata": {
  "kernelspec": {
   "display_name": "Python 3 (ipykernel)",
   "language": "python",
   "name": "python3"
  },
  "language_info": {
   "codemirror_mode": {
    "name": "ipython",
    "version": 3
   },
   "file_extension": ".py",
   "mimetype": "text/x-python",
   "name": "python",
   "nbconvert_exporter": "python",
   "pygments_lexer": "ipython3",
   "version": "3.10.12"
  }
 },
 "nbformat": 4,
 "nbformat_minor": 5
}
